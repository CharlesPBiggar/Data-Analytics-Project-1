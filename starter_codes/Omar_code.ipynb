{
 "cells": [
  {
   "cell_type": "markdown",
   "metadata": {},
   "source": [
    "# Dependency and API Setup"
   ]
  },
  {
   "cell_type": "code",
<<<<<<< HEAD
   "execution_count": 2,
=======
<<<<<<< HEAD
   "execution_count": 1,
=======
   "execution_count": 5,
>>>>>>> master
>>>>>>> master
   "metadata": {
    "scrolled": true
   },
   "outputs": [
    {
     "ename": "ModuleNotFoundError",
     "evalue": "No module named 'gmaps'",
     "output_type": "error",
     "traceback": [
      "\u001b[1;31m---------------------------------------------------------------------------\u001b[0m",
      "\u001b[1;31mModuleNotFoundError\u001b[0m                       Traceback (most recent call last)",
      "\u001b[1;32m<ipython-input-2-f25cf3930b19>\u001b[0m in \u001b[0;36m<module>\u001b[1;34m\u001b[0m\n\u001b[0;32m      6\u001b[0m \u001b[1;32mimport\u001b[0m \u001b[0mtime\u001b[0m\u001b[1;33m\u001b[0m\u001b[1;33m\u001b[0m\u001b[0m\n\u001b[0;32m      7\u001b[0m \u001b[1;32mimport\u001b[0m \u001b[0mjson\u001b[0m\u001b[1;33m\u001b[0m\u001b[1;33m\u001b[0m\u001b[0m\n\u001b[1;32m----> 8\u001b[1;33m \u001b[1;32mimport\u001b[0m \u001b[0mgmaps\u001b[0m\u001b[1;33m\u001b[0m\u001b[1;33m\u001b[0m\u001b[0m\n\u001b[0m\u001b[0;32m      9\u001b[0m \u001b[1;32mimport\u001b[0m \u001b[0mplotly\u001b[0m\u001b[1;33m.\u001b[0m\u001b[0mgraph_objects\u001b[0m \u001b[1;32mas\u001b[0m \u001b[0mgo\u001b[0m\u001b[1;33m\u001b[0m\u001b[1;33m\u001b[0m\u001b[0m\n\u001b[0;32m     10\u001b[0m \u001b[1;33m\u001b[0m\u001b[0m\n",
      "\u001b[1;31mModuleNotFoundError\u001b[0m: No module named 'gmaps'"
     ]
    }
   ],
   "source": [
    "# Dependencies and Setup\n",
    "import matplotlib.pyplot as plt\n",
    "import pandas as pd\n",
    "import numpy as np\n",
    "import requests\n",
    "import time\n",
    "import json\n",
<<<<<<< HEAD
    "import gmaps\n",
    "import plotly.graph_objects as go\n",
=======
    "# import gmaps\n",
<<<<<<< HEAD
    "import plotly.graph_objects as go\n",
=======
    "# import plotly.graph_objects as go\n",
>>>>>>> master
>>>>>>> master
    "\n",
    "\n",
    "# Import API keys\n",
    "from api_keys import api_key\n",
    "from api_keys import gkey"
   ]
  },
  {
   "cell_type": "markdown",
   "metadata": {},
   "source": [
    "# Perform Weather API Calls to obtain city weather for relation to funding"
   ]
  },
  {
   "cell_type": "code",
   "execution_count": 2,
   "metadata": {},
   "outputs": [],
   "source": [
    "# # List for holding lat_lngs and cities\n",
    "# lat_lngs = []\n",
    "# city = []\n",
    "\n",
    "# city = pd.read_csv(\"../startup_datasets/Cities.csv\")\n",
    "\n",
    "\n",
    "# # Print the city count to confirm sufficient count\n",
    "# len(city)\n",
    "# cities = np.unique(city)\n",
    "# print(cities)\n",
    "# uvalues = pd.DataFrame(cities)\n",
    "# uvalues\n",
    "# clouds = []\n",
    "# country = []\n",
    "# date = []\n",
    "# humidity = []\n",
    "# lat = []\n",
    "# lng = []\n",
    "# max_temp =[]\n",
    "# wind_speed = []\n",
    "# city2 = []\n",
    "# cityid = []\n",
    "\n",
    "\n",
    "# for c in cities:\n",
    "#     url = f\"http://api.openweathermap.org/data/2.5/weather?q={c},{'US'}&APPID={api_key}&units=imperial\"\n",
    "#     print(url)\n",
    "#     weather_response= requests.get(url)\n",
    "#     print(weather_response)\n",
    "\n",
    "#     if weather_response.status_code == 200:\n",
    "#         print(weather_response)\n",
    "#         weather_json=weather_response.json()\n",
    "#         print(weather_json)\n",
    "#         city2.append(weather_json['name'])\n",
    "#         clouds.append(weather_json['clouds']['all'])\n",
    "#         country.append(weather_json['sys']['country'])\n",
    "#         date.append(weather_json['dt'])\n",
    "#         humidity.append(weather_json['main']['humidity'])\n",
    "#         lat.append(weather_json['coord']['lat'])\n",
    "#         lng.append(weather_json['coord']['lon'])\n",
    "#         max_temp.append(weather_json['main']['temp_max'])\n",
    "#         wind_speed.append(weather_json['wind']['speed'])\n",
    "#         cityid.append(weather_json['id'])"
   ]
  },
  {
   "cell_type": "markdown",
   "metadata": {},
   "source": [
    "# Convert Raw Weather Data to DataFrame"
   ]
  },
  {
   "cell_type": "code",
   "execution_count": 3,
   "metadata": {},
   "outputs": [],
   "source": [
    "# Convert to DataFrame\n",
    "# weather_df = pd.DataFrame(columns={\"City\" : city2,\n",
    "#                                 \"Cloudiness\" : clouds,\n",
    "#                                 \"Country\" : country,\n",
    "#                                 \"Date\" : date,\n",
    "#                                 \"Humidity\" : humidity,\n",
    "#                                 \"Lat\" : lat,\n",
    "#                                 \"Lng\" : lng, \n",
    "#                                 \"Max Temp\" : max_temp,\n",
    "#                                 \"Wind Speed\" : wind_speed})\n",
    "\n",
    "# weather_df[\"City\"] = city2\n",
    "# weather_df[\"Cloudiness\"] = clouds\n",
    "# weather_df[\"Country\"] = country\n",
    "# weather_df[\"Date\"] = date\n",
    "# weather_df[\"Humidity\"] = humidity\n",
    "# weather_df[\"Lat\"] = lat\n",
    "# weather_df[\"Lng\"] = lng\n",
    "# weather_df[\"Max Temp\"] = max_temp\n",
    "# weather_df[\"Wind Speed\"] = wind_speed\n",
    "\n",
    "# export_csv = weather_df.to_csv (r\"../startup_datasets/weather.csv\", index = None, header=True) \n",
    "# weather_df.head()\n",
    "\n",
    "# city_name_df = pd.DataFrame(columns={\"City Name\" : city2,\n",
    "#                                 \"City Number\" : cityid})\n",
    "# city_name_df[\"City Name\"] = city2\n",
    "# city_name_df[\"City Number\"] = cityid\n",
    "# export_csv = city_name_df.to_csv (r\"../startup_datasets/city_name_number_df.csv\", index = None, header=True) \n",
    "# city_name_df.head()"
   ]
  },
  {
   "cell_type": "markdown",
   "metadata": {},
   "source": [
    "# Read main dataset in dataframe"
   ]
  },
  {
   "cell_type": "code",
<<<<<<< HEAD
   "execution_count": 3,
=======
<<<<<<< HEAD
   "execution_count": 4,
=======
   "execution_count": 6,
>>>>>>> master
>>>>>>> master
   "metadata": {},
   "outputs": [
    {
     "data": {
      "text/html": [
       "<div>\n",
       "<style scoped>\n",
       "    .dataframe tbody tr th:only-of-type {\n",
       "        vertical-align: middle;\n",
       "    }\n",
       "\n",
       "    .dataframe tbody tr th {\n",
       "        vertical-align: top;\n",
       "    }\n",
       "\n",
       "    .dataframe thead th {\n",
       "        text-align: right;\n",
       "    }\n",
       "</style>\n",
       "<table border=\"1\" class=\"dataframe\">\n",
       "  <thead>\n",
       "    <tr style=\"text-align: right;\">\n",
       "      <th></th>\n",
       "      <th>name</th>\n",
       "      <th>category_list</th>\n",
       "      <th>funding_total_usd</th>\n",
       "      <th>status</th>\n",
       "      <th>country_code</th>\n",
       "      <th>state_code</th>\n",
       "      <th>city</th>\n",
       "      <th>funding_rounds</th>\n",
       "      <th>Investors</th>\n",
       "      <th>Number_of_Investors</th>\n",
       "      <th>...</th>\n",
       "      <th>founded_at</th>\n",
       "      <th>Coordinates</th>\n",
       "      <th>Cloudiness</th>\n",
       "      <th>Country</th>\n",
       "      <th>Date</th>\n",
       "      <th>Humidity</th>\n",
       "      <th>Lat</th>\n",
       "      <th>Lng</th>\n",
       "      <th>Max Temp</th>\n",
       "      <th>Wind Speed</th>\n",
       "    </tr>\n",
       "  </thead>\n",
       "  <tbody>\n",
       "    <tr>\n",
       "      <th>0</th>\n",
       "      <td>@TheMoment</td>\n",
       "      <td>Finance</td>\n",
       "      <td>7000000.0</td>\n",
       "      <td>operating</td>\n",
       "      <td>USA</td>\n",
       "      <td>CA</td>\n",
       "      <td>San Mateo</td>\n",
       "      <td>1</td>\n",
       "      <td>Tarrant Venture Partners:7000000|TIBCO Softwar...</td>\n",
       "      <td>4</td>\n",
       "      <td>...</td>\n",
       "      <td>1999</td>\n",
       "      <td>41.837551:-87.681844</td>\n",
       "      <td>20</td>\n",
       "      <td>US</td>\n",
       "      <td>1567267823</td>\n",
       "      <td>77</td>\n",
       "      <td>37.54</td>\n",
       "      <td>-122.31</td>\n",
       "      <td>70.00</td>\n",
       "      <td>3.36</td>\n",
       "    </tr>\n",
       "    <tr>\n",
       "      <th>1</th>\n",
       "      <td>[x+1]</td>\n",
       "      <td>Software</td>\n",
       "      <td>45000000.0</td>\n",
       "      <td>operating</td>\n",
       "      <td>USA</td>\n",
       "      <td>NY</td>\n",
       "      <td>New York</td>\n",
       "      <td>4</td>\n",
       "      <td>Advanced Technology Ventures:26000000.0|Ares C...</td>\n",
       "      <td>5</td>\n",
       "      <td>...</td>\n",
       "      <td>1999</td>\n",
       "      <td>41.781503:-72.518324</td>\n",
       "      <td>1</td>\n",
       "      <td>US</td>\n",
       "      <td>1567267785</td>\n",
       "      <td>47</td>\n",
       "      <td>40.73</td>\n",
       "      <td>-73.99</td>\n",
       "      <td>80.01</td>\n",
       "      <td>7.31</td>\n",
       "    </tr>\n",
       "    <tr>\n",
       "      <th>2</th>\n",
       "      <td>1000 Corks</td>\n",
       "      <td>Software</td>\n",
       "      <td>40000.0</td>\n",
       "      <td>operating</td>\n",
       "      <td>USA</td>\n",
       "      <td>OR</td>\n",
       "      <td>Lake Oswego</td>\n",
       "      <td>1</td>\n",
       "      <td>Start-Up Chile:40000</td>\n",
       "      <td>1</td>\n",
       "      <td>...</td>\n",
       "      <td>2008</td>\n",
       "      <td>45.412305:-122.699154</td>\n",
       "      <td>40</td>\n",
       "      <td>US</td>\n",
       "      <td>1567267758</td>\n",
       "      <td>77</td>\n",
       "      <td>45.42</td>\n",
       "      <td>-122.67</td>\n",
       "      <td>68.00</td>\n",
       "      <td>6.93</td>\n",
       "    </tr>\n",
       "    <tr>\n",
       "      <th>3</th>\n",
       "      <td>1000museums.com</td>\n",
       "      <td>Software</td>\n",
       "      <td>6795451.0</td>\n",
       "      <td>operating</td>\n",
       "      <td>USA</td>\n",
       "      <td>MA</td>\n",
       "      <td>Lenox</td>\n",
       "      <td>9</td>\n",
       "      <td>Alliance of Angels:1289879.0|Converge Venture ...</td>\n",
       "      <td>7</td>\n",
       "      <td>...</td>\n",
       "      <td>2008</td>\n",
       "      <td>42.361228:-73.286788</td>\n",
       "      <td>1</td>\n",
       "      <td>US</td>\n",
       "      <td>1567267760</td>\n",
       "      <td>43</td>\n",
       "      <td>42.36</td>\n",
       "      <td>-73.28</td>\n",
       "      <td>75.20</td>\n",
       "      <td>16.11</td>\n",
       "    </tr>\n",
       "    <tr>\n",
       "      <th>4</th>\n",
       "      <td>1010data</td>\n",
       "      <td>Software</td>\n",
       "      <td>35000000.0</td>\n",
       "      <td>acquired</td>\n",
       "      <td>USA</td>\n",
       "      <td>NY</td>\n",
       "      <td>New York</td>\n",
       "      <td>1</td>\n",
       "      <td>Norwest Venture Partners - NVP:35000000</td>\n",
       "      <td>1</td>\n",
       "      <td>...</td>\n",
       "      <td>2000</td>\n",
       "      <td>40.664274:-73.9385</td>\n",
       "      <td>1</td>\n",
       "      <td>US</td>\n",
       "      <td>1567267785</td>\n",
       "      <td>47</td>\n",
       "      <td>40.73</td>\n",
       "      <td>-73.99</td>\n",
       "      <td>80.01</td>\n",
       "      <td>7.31</td>\n",
       "    </tr>\n",
       "  </tbody>\n",
       "</table>\n",
       "<p>5 rows × 28 columns</p>\n",
       "</div>"
      ],
      "text/plain": [
       "              name category_list  funding_total_usd     status country_code  \\\n",
       "0       @TheMoment       Finance          7000000.0  operating          USA   \n",
       "1            [x+1]      Software         45000000.0  operating          USA   \n",
       "2       1000 Corks      Software            40000.0  operating          USA   \n",
       "3  1000museums.com      Software          6795451.0  operating          USA   \n",
       "4         1010data      Software         35000000.0   acquired          USA   \n",
       "\n",
       "  state_code         city  funding_rounds  \\\n",
       "0         CA    San Mateo               1   \n",
       "1         NY     New York               4   \n",
       "2         OR  Lake Oswego               1   \n",
       "3         MA        Lenox               9   \n",
       "4         NY     New York               1   \n",
       "\n",
       "                                           Investors  Number_of_Investors  \\\n",
       "0  Tarrant Venture Partners:7000000|TIBCO Softwar...                    4   \n",
       "1  Advanced Technology Ventures:26000000.0|Ares C...                    5   \n",
       "2                               Start-Up Chile:40000                    1   \n",
       "3  Alliance of Angels:1289879.0|Converge Venture ...                    7   \n",
       "4            Norwest Venture Partners - NVP:35000000                    1   \n",
       "\n",
       "   ... founded_at            Coordinates Cloudiness Country        Date  \\\n",
       "0  ...       1999   41.837551:-87.681844         20      US  1567267823   \n",
       "1  ...       1999   41.781503:-72.518324          1      US  1567267785   \n",
       "2  ...       2008  45.412305:-122.699154         40      US  1567267758   \n",
       "3  ...       2008   42.361228:-73.286788          1      US  1567267760   \n",
       "4  ...       2000     40.664274:-73.9385          1      US  1567267785   \n",
       "\n",
       "  Humidity    Lat     Lng Max Temp Wind Speed  \n",
       "0       77  37.54 -122.31    70.00       3.36  \n",
       "1       47  40.73  -73.99    80.01       7.31  \n",
       "2       77  45.42 -122.67    68.00       6.93  \n",
       "3       43  42.36  -73.28    75.20      16.11  \n",
       "4       47  40.73  -73.99    80.01       7.31  \n",
       "\n",
       "[5 rows x 28 columns]"
      ]
     },
<<<<<<< HEAD
     "execution_count": 3,
=======
<<<<<<< HEAD
     "execution_count": 4,
=======
     "execution_count": 6,
>>>>>>> master
>>>>>>> master
     "metadata": {},
     "output_type": "execute_result"
    }
   ],
   "source": [
    "# read Main Starter File with Funding and weather data combined (CSV)\n",
    "starter_data = pd.read_csv(\"../startup_datasets/final_data1.csv\")\n",
    "starter_data.head()"
   ]
  },
  {
   "cell_type": "code",
<<<<<<< HEAD
   "execution_count": 4,
=======
<<<<<<< HEAD
=======
   "execution_count": 7,
>>>>>>> master
   "metadata": {},
   "outputs": [
    {
     "data": {
      "text/plain": [
       "Index(['name', 'category_list', 'funding_total_usd', 'status', 'country_code',\n",
       "       'state_code', 'city', 'funding_rounds', 'Investors',\n",
       "       'Number_of_Investors', 'Acquirer', 'Acquirer_Category',\n",
       "       'Acquirer_Country', 'Acquirer_State', 'Acquirer_City', 'Acquired_Price',\n",
       "       'Acquired Currency', 'county', 'founded_at', 'Coordinates',\n",
       "       'Cloudiness', 'Country', 'Date', 'Humidity', 'Lat', 'Lng', 'Max Temp',\n",
       "       'Wind Speed'],\n",
       "      dtype='object')"
      ]
     },
     "execution_count": 4,
     "metadata": {},
     "output_type": "execute_result"
    }
   ],
   "source": [
    "# Create a scatter plot for the Acquirer data set (x=# of acquisitions, y=$ total acquisition cost, color for categories)\n",
    "starter_data.columns\n",
    "\n",
    "### Steps to create graphic\n",
    "# 1) Create dataframe with required data (Acquirer, name, Acquired_Price, etc)\n",
    "# 2) Add in columns to help summarize data (Total Acquisitions, Total Acquired Price, etc)\n",
    "# 3) Create metrics / values for the scatter plot\n",
    "# 4) Create scatter plot"
   ]
  },
  {
   "cell_type": "code",
   "execution_count": 12,
   "metadata": {},
   "outputs": [
    {
     "ename": "AttributeError",
     "evalue": "'MultiIndex' object has no attribute 'count'",
     "output_type": "error",
     "traceback": [
      "\u001b[1;31m---------------------------------------------------------------------------\u001b[0m",
      "\u001b[1;31mAttributeError\u001b[0m                            Traceback (most recent call last)",
      "\u001b[1;32m<ipython-input-12-b43b3986c805>\u001b[0m in \u001b[0;36m<module>\u001b[1;34m\u001b[0m\n\u001b[0;32m      9\u001b[0m \u001b[1;33m\u001b[0m\u001b[0m\n\u001b[0;32m     10\u001b[0m \u001b[1;31m# 2) Add in columns to help summarize data (Total Acquisitions, Total Acquired Price, etc)\u001b[0m\u001b[1;33m\u001b[0m\u001b[1;33m\u001b[0m\u001b[1;33m\u001b[0m\u001b[0m\n\u001b[1;32m---> 11\u001b[1;33m \u001b[0macquisitions_df\u001b[0m\u001b[1;33m[\u001b[0m\u001b[1;34m'Total_Acquisitions'\u001b[0m\u001b[1;33m]\u001b[0m \u001b[1;33m=\u001b[0m \u001b[0macquisitions_df\u001b[0m\u001b[1;33m.\u001b[0m\u001b[0mindex\u001b[0m\u001b[1;33m.\u001b[0m\u001b[0mcount\u001b[0m\u001b[1;33m(\u001b[0m\u001b[1;33m)\u001b[0m\u001b[1;33m\u001b[0m\u001b[1;33m\u001b[0m\u001b[0m\n\u001b[0m\u001b[0;32m     12\u001b[0m \u001b[1;31m# acquisitions_df['Total_Acquired_Price'] =\u001b[0m\u001b[1;33m\u001b[0m\u001b[1;33m\u001b[0m\u001b[1;33m\u001b[0m\u001b[0m\n\u001b[0;32m     13\u001b[0m \u001b[1;33m\u001b[0m\u001b[0m\n",
      "\u001b[1;31mAttributeError\u001b[0m: 'MultiIndex' object has no attribute 'count'"
     ]
    }
   ],
   "source": [
    "# 1) Create dataframe with required data (Acquirer, name, Acquired_Price, etc)\n",
    "acquired_firms = starter_data.loc[starter_data['status'] == 'acquired']\n",
    "acquisitions = acquired_firms[['Acquirer','Acquirer_Category',\n",
    "       'Acquirer_Country', 'Acquirer_State', 'Acquirer_City', 'Acquired_Price',\n",
    "       'Acquired Currency','name', 'category_list', 'status']]\n",
    "sort_acquisitions = acquisitions.groupby(['Acquirer', 'name']).sum()\n",
    "acquisitions_df = pd.DataFrame(sort_acquisitions)\n",
    "acquisitions_df\n",
    "\n",
    "# 2) Add in columns to help summarize data (Total Acquisitions, Total Acquired Price, etc)\n",
    "acquisitions_df['Total_Acquisitions'] = np.\n",
    "acquisitions_df['Total_Acquired_Price'] =\n",
    "\n",
    "# 3) Create metrics / values for the scatter plot\n",
    "# x_acquisitions = sort_acquisitions['Acquired_Price'].sum()\n",
    "# x_acquisitions\n",
    "# y_acquisitions = x_acquisitions.groupby(['Acquirer']).sum()\n",
    "# s_acquisitions = y_acquisitions.index.get_level_values(0).values\n",
    "\n",
    "# # Build the scatter plots for each acquirer\n",
    "# fig = plt.figure()\n",
    "# ax1 = fig.add_subplot()\n",
    "\n",
    "# ax1.scatter(x_acquisitions, y_acquisitions, s=s_acquisitions, c='coral', alpha=.7, linewidths=1, edgecolor='black')"
   ]
  },
  {
   "cell_type": "code",
>>>>>>> master
   "execution_count": null,
   "metadata": {},
   "outputs": [],
   "source": []
<<<<<<< HEAD
=======
  },
  {
   "cell_type": "code",
   "execution_count": null,
   "metadata": {},
   "outputs": [],
   "source": [
    "# Table with summary of dataset for appendix/intro slide\n"
   ]
>>>>>>> master
  }
 ],
 "metadata": {
  "anaconda-cloud": {},
  "kernel_info": {
   "name": "python3"
  },
  "kernelspec": {
   "display_name": "Python 3",
   "language": "python",
   "name": "python3"
  },
  "language_info": {
   "codemirror_mode": {
    "name": "ipython",
    "version": 3
   },
   "file_extension": ".py",
   "mimetype": "text/x-python",
   "name": "python",
   "nbconvert_exporter": "python",
   "pygments_lexer": "ipython3",
<<<<<<< HEAD
   "version": "3.7.3"
=======
   "version": "3.6.8"
>>>>>>> master
  },
  "nteract": {
   "version": "0.12.3"
  }
 },
 "nbformat": 4,
 "nbformat_minor": 2
}
