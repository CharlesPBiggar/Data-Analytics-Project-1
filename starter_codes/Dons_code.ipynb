{
 "cells": [
  {
   "cell_type": "markdown",
   "metadata": {},
   "source": [
    "# Code for obtaining city weather and lng/lat"
   ]
  },
  {
   "cell_type": "code",
   "execution_count": null,
   "metadata": {
    "scrolled": true
   },
   "outputs": [],
   "source": [
    "# Dependencies and Setup\n",
    "import matplotlib.pyplot as plt\n",
    "import pandas as pd\n",
    "import numpy as np\n",
    "import requests\n",
    "import time\n",
    "import gmaps\n",
    "\n",
    "\n",
    "# Import API key\n",
    "from api_keys import api_key\n",
    "from api_keys import gkey\n",
    "\n",
    "# Output File (CSV)\n",
    "output_data_file = \"desktop/cities.csv\""
   ]
  },
  {
   "cell_type": "markdown",
   "metadata": {},
   "source": [
    "## Generate Cities List"
   ]
  },
  {
   "cell_type": "code",
   "execution_count": null,
   "metadata": {},
   "outputs": [],
   "source": [
    "# List for holding lat_lngs and cities\n",
    "lat_lngs = []\n",
    "city = []\n",
    "\n",
    "city = pd.read_csv(\"C:/Users/Drew's Surface/Desktop/Cities.csv\")\n",
    "\n",
    "\n",
    "# Print the city count to confirm sufficient count\n",
    "len(city)\n",
    "cities = np.unique(city)\n",
    "print(cities)\n",
    "uvalues = pd.DataFrame(cities)\n",
    "uvalues"
   ]
  },
  {
   "cell_type": "markdown",
   "metadata": {},
   "source": [
    "### Perform API Calls\n",
    "* Perform a weather check on each city using a series of successive API calls.\n",
    "* Include a print log of each city as it'sbeing processed (with the city number and city name).\n"
   ]
  },
  {
   "cell_type": "code",
   "execution_count": null,
   "metadata": {},
   "outputs": [],
   "source": [
    "clouds = []\n",
    "country = []\n",
    "date = []\n",
    "humidity = []\n",
    "lat = []\n",
    "lng = []\n",
    "max_temp =[]\n",
    "wind_speed = []\n",
    "city2 = []\n",
    "cityid = []\n",
    "\n",
    "\n",
    "for c in cities:\n",
    "    url = f\"http://api.openweathermap.org/data/2.5/weather?q={c},{'US'}&APPID={api_key}&units=imperial\"\n",
    "    print(url)\n",
    "    weather_response= requests.get(url)\n",
    "    print(weather_response)\n",
    "\n",
    "    if weather_response.status_code == 200:\n",
    "        print(weather_response)\n",
    "        weather_json=weather_response.json()\n",
    "        print(weather_json)\n",
    "        city2.append(weather_json['name'])\n",
    "        clouds.append(weather_json['clouds']['all'])\n",
    "        country.append(weather_json['sys']['country'])\n",
    "        date.append(weather_json['dt'])\n",
    "        humidity.append(weather_json['main']['humidity'])\n",
    "        lat.append(weather_json['coord']['lat'])\n",
    "        lng.append(weather_json['coord']['lon'])\n",
    "        max_temp.append(weather_json['main']['temp_max'])\n",
    "        wind_speed.append(weather_json['wind']['speed'])\n",
    "        cityid.append(weather_json['id'])"
   ]
  },
  {
   "cell_type": "markdown",
   "metadata": {},
   "source": [
    "### Convert Raw Data to DataFrame\n",
    "* Export the city data into a .csv.\n",
    "* Display the DataFrame"
   ]
  },
  {
   "cell_type": "code",
   "execution_count": 4,
   "metadata": {},
   "outputs": [
    {
     "data": {
      "text/html": [
       "<div>\n",
       "<style scoped>\n",
       "    .dataframe tbody tr th:only-of-type {\n",
       "        vertical-align: middle;\n",
       "    }\n",
       "\n",
       "    .dataframe tbody tr th {\n",
       "        vertical-align: top;\n",
       "    }\n",
       "\n",
       "    .dataframe thead th {\n",
       "        text-align: right;\n",
       "    }\n",
       "</style>\n",
       "<table border=\"1\" class=\"dataframe\">\n",
       "  <thead>\n",
       "    <tr style=\"text-align: right;\">\n",
       "      <th></th>\n",
       "      <th>City Name</th>\n",
       "      <th>City Number</th>\n",
       "    </tr>\n",
       "  </thead>\n",
       "  <tbody>\n",
       "    <tr>\n",
       "      <th>0</th>\n",
       "      <td>Acton</td>\n",
       "      <td>4928703</td>\n",
       "    </tr>\n",
       "    <tr>\n",
       "      <th>1</th>\n",
       "      <td>Acworth</td>\n",
       "      <td>4179074</td>\n",
       "    </tr>\n",
       "    <tr>\n",
       "      <th>2</th>\n",
       "      <td>Ada</td>\n",
       "      <td>4998005</td>\n",
       "    </tr>\n",
       "    <tr>\n",
       "      <th>3</th>\n",
       "      <td>Addison</td>\n",
       "      <td>4669828</td>\n",
       "    </tr>\n",
       "    <tr>\n",
       "      <th>4</th>\n",
       "      <td>Agoura Hills</td>\n",
       "      <td>5322553</td>\n",
       "    </tr>\n",
       "  </tbody>\n",
       "</table>\n",
       "</div>"
      ],
      "text/plain": [
       "      City Name  City Number\n",
       "0         Acton      4928703\n",
       "1       Acworth      4179074\n",
       "2           Ada      4998005\n",
       "3       Addison      4669828\n",
       "4  Agoura Hills      5322553"
      ]
     },
     "execution_count": 4,
     "metadata": {},
     "output_type": "execute_result"
    }
   ],
   "source": [
    "# Convert to DataFrame\n",
    "weather_df = pd.DataFrame(columns={\"City\" : city2,\n",
    "                                \"Cloudiness\" : clouds,\n",
    "                                \"Country\" : country,\n",
    "                                \"Date\" : date,\n",
    "                                \"Humidity\" : humidity,\n",
    "                                \"Lat\" : lat,\n",
    "                                \"Lng\" : lng, \n",
    "                                \"Max Temp\" : max_temp,\n",
    "                                \"Wind Speed\" : wind_speed})\n",
    "\n",
    "weather_df[\"City\"] = city2\n",
    "weather_df[\"Cloudiness\"] = clouds\n",
    "weather_df[\"Country\"] = country\n",
    "weather_df[\"Date\"] = date\n",
    "weather_df[\"Humidity\"] = humidity\n",
    "weather_df[\"Lat\"] = lat\n",
    "weather_df[\"Lng\"] = lng\n",
    "weather_df[\"Max Temp\"] = max_temp\n",
    "weather_df[\"Wind Speed\"] = wind_speed\n",
    "\n",
    "export_csv = weather_df.to_csv (r\"C:/Users/Drew's Surface/Desktop/weather_df.csv\", index = None, header=True) \n",
    "weather_df.head()\n",
    "\n",
    "city_name_df = pd.DataFrame(columns={\"City Name\" : city2,\n",
    "                                \"City Number\" : cityid})\n",
    "city_name_df[\"City Name\"] = city2\n",
    "city_name_df[\"City Number\"] = cityid\n",
    "export_csv = city_name_df.to_csv (r\"C:/Users/Drew's Surface/Desktop/city_name_number_df.csv\", index = None, header=True) \n",
    "city_name_df.head()"
   ]
  },
  {
   "cell_type": "code",
   "execution_count": null,
   "metadata": {},
   "outputs": [],
   "source": []
  }
 ],
 "metadata": {
  "anaconda-cloud": {},
  "kernel_info": {
   "name": "python3"
  },
  "kernelspec": {
   "display_name": "Python 3",
   "language": "python",
   "name": "python3"
  },
  "language_info": {
   "codemirror_mode": {
    "name": "ipython",
    "version": 3
   },
   "file_extension": ".py",
   "mimetype": "text/x-python",
   "name": "python",
   "nbconvert_exporter": "python",
   "pygments_lexer": "ipython3",
   "version": "3.7.3"
  },
  "nteract": {
   "version": "0.12.3"
  }
 },
 "nbformat": 4,
 "nbformat_minor": 2
}
